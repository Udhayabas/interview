{
 "cells": [
  {
   "cell_type": "markdown",
   "id": "a7193ed9",
   "metadata": {},
   "source": [
    "# Numbers"
   ]
  },
  {
   "cell_type": "markdown",
   "id": "840aef0f",
   "metadata": {},
   "source": [
    "### 1. Print min and max number"
   ]
  },
  {
   "cell_type": "code",
   "execution_count": 1,
   "id": "a9a4684e",
   "metadata": {},
   "outputs": [
    {
     "name": "stdout",
     "output_type": "stream",
     "text": [
      "Minimum _Number: 2\n",
      "Maximum _Number: 98\n"
     ]
    }
   ],
   "source": [
    "print(\"Minimum _Number:\",min(34,7,98,56,2,63))\n",
    "print(\"Maximum _Number:\",max(34,7,98,56,2,63))"
   ]
  },
  {
   "cell_type": "code",
   "execution_count": 2,
   "id": "7d024c2c",
   "metadata": {},
   "outputs": [
    {
     "name": "stdout",
     "output_type": "stream",
     "text": [
      "abc\n",
      "c\n"
     ]
    }
   ],
   "source": [
    "l = [\"ab\", \"abc\", \"bc\", \"c\"]\n",
    " \n",
    "print(max(l, key = len))\n",
    "print(min(l, key = len))\n",
    "\n",
    "#initially l = [“ab”, “abc”, “bc”, “c”] \n",
    "#when we passed key=len as arguments then it works like \n",
    "#l=[2,3,2,1]  "
   ]
  },
  {
   "cell_type": "code",
   "execution_count": 3,
   "id": "ac66f6d0",
   "metadata": {},
   "outputs": [
    {
     "name": "stdout",
     "output_type": "stream",
     "text": [
      "{'name': 'ramu', 'score': 90, 'age': 24}\n"
     ]
    }
   ],
   "source": [
    "l = [{'name':'ramu', 'score':90, 'age':24},\n",
    "     {'name':'golu', 'score':70, 'age':19}]\n",
    "print(max(l, key = lambda item:item.get('age')))"
   ]
  },
  {
   "cell_type": "markdown",
   "id": "b96e6229",
   "metadata": {},
   "source": [
    "### 2. Print Length, Minimum, Maximum number of a list"
   ]
  },
  {
   "cell_type": "code",
   "execution_count": 4,
   "id": "f47d2a8e",
   "metadata": {},
   "outputs": [
    {
     "name": "stdout",
     "output_type": "stream",
     "text": [
      "8\n",
      "12\n",
      "98\n"
     ]
    }
   ],
   "source": [
    "List = [12, 23, 34, 78, 65, 98, 49, 51] \n",
    "print(len(List)) \n",
    "print(min(List))\n",
    "print(max(List))"
   ]
  },
  {
   "cell_type": "markdown",
   "id": "7771e8e0",
   "metadata": {},
   "source": [
    "### 3. Using Counter() function to find duplicates"
   ]
  },
  {
   "cell_type": "code",
   "execution_count": 5,
   "id": "ae5c2fb5",
   "metadata": {},
   "outputs": [
    {
     "name": "stdout",
     "output_type": "stream",
     "text": [
      "Counter({1: 4, 2: 3, 5: 2, 9: 2, 3: 1, 4: 1, 6: 1, 7: 1, 8: 1})\n",
      "[1, 2, 5, 9]\n"
     ]
    }
   ],
   "source": [
    "from collections import Counter\n",
    "l1 = [1,2,1,2,3,4,5,1,1,2,5,6,7,8,9,9]\n",
    "d = Counter(l1)\n",
    "print(d)\n",
    "\n",
    "new_list = list([item for item in d if d[item]>1])\n",
    "print(new_list)"
   ]
  },
  {
   "cell_type": "markdown",
   "id": "03355858",
   "metadata": {},
   "source": [
    "### 4. Using in, not in operators and count() method to remove duplicates"
   ]
  },
  {
   "cell_type": "code",
   "execution_count": 7,
   "id": "749ade72",
   "metadata": {},
   "outputs": [
    {
     "name": "stdout",
     "output_type": "stream",
     "text": [
      "[1, 2, 3, 4, 5, 6, 7, 8, 9]\n"
     ]
    }
   ],
   "source": [
    "l2 = [1, 2, 1, 2, 3, 4, 5, 1, 1, 2, 5, 6, 7, 8, 9, 9]\n",
    "x = []\n",
    "y = []\n",
    "for i in l2:\n",
    "    if i not in x:\n",
    "        x.append(i)\n",
    "print(x)"
   ]
  },
  {
   "cell_type": "markdown",
   "id": "5130088d",
   "metadata": {},
   "source": [
    "### 5. Using list comprehension method to remove duplicates"
   ]
  },
  {
   "cell_type": "code",
   "execution_count": 8,
   "id": "f8f49646",
   "metadata": {},
   "outputs": [
    {
     "name": "stdout",
     "output_type": "stream",
     "text": [
      "[1, 2, 5, 9]\n"
     ]
    }
   ],
   "source": [
    "def duplicate(input_list):\n",
    "    return list(set([x for x in input_list if input_list.count(x) > 1]))\n",
    "\n",
    "if __name__ == '__main__':\n",
    "    input_list = [1, 2, 1, 2, 3, 4, 5, 1, 1, 2, 5, 6, 7, 8, 9, 9]\n",
    "    print(duplicate(input_list))\n"
   ]
  },
  {
   "cell_type": "markdown",
   "id": "3939bf68",
   "metadata": {},
   "source": [
    "### 6. Print unique elements using nympy"
   ]
  },
  {
   "cell_type": "code",
   "execution_count": 12,
   "id": "d92ffc79",
   "metadata": {},
   "outputs": [
    {
     "name": "stdout",
     "output_type": "stream",
     "text": [
      "['34' '40' '76' '93' 'Fri' 'Mon' 'Tue']\n"
     ]
    }
   ],
   "source": [
    "import numpy as np\n",
    "Alist=['Mon', 40, 34, 'Tue', 40, 76, 93, 'Fri', 'Tue', 34, 93]\n",
    "print(np.unique(Alist))"
   ]
  },
  {
   "cell_type": "markdown",
   "id": "b36a5c24",
   "metadata": {},
   "source": [
    "### 7. Print unique elements using set() function"
   ]
  },
  {
   "cell_type": "code",
   "execution_count": 13,
   "id": "724e621d",
   "metadata": {},
   "outputs": [
    {
     "name": "stdout",
     "output_type": "stream",
     "text": [
      "{34, 'Fri', 40, 76, 'Tue', 'Mon', 93}\n"
     ]
    }
   ],
   "source": [
    "#List to Set\n",
    "Alist=['Mon', 40, 34, 'Tue', 40, 76, 93, 'Fri', 'Tue', 34, 93]\n",
    "Blist=set(Alist)\n",
    "print(Blist)"
   ]
  },
  {
   "cell_type": "markdown",
   "id": "069b5b71",
   "metadata": {},
   "source": [
    "# Strings"
   ]
  },
  {
   "cell_type": "markdown",
   "id": "d2b1b2e8",
   "metadata": {},
   "source": [
    "### 1. Print length of a string \n",
    "### Print Minimum, Maximum element in a string "
   ]
  },
  {
   "cell_type": "code",
   "execution_count": 19,
   "id": "a0f99ca9",
   "metadata": {},
   "outputs": [
    {
     "name": "stdout",
     "output_type": "stream",
     "text": [
      "Length of a string: 38\n",
      "Minimum element: a\n",
      "Maximum element: r\n"
     ]
    }
   ],
   "source": [
    "str=\"HopeAI is a virtual training institute\"\n",
    "print(\"Length of a string:\", len(str))\n",
    "string=\"machinelearning\"\n",
    "print(\"Minimum element:\", min(string))\n",
    "print(\"Maximum element:\", max(string))"
   ]
  },
  {
   "cell_type": "markdown",
   "id": "99efc681",
   "metadata": {},
   "source": [
    "### Print length of a string without using len function"
   ]
  },
  {
   "cell_type": "code",
   "execution_count": 9,
   "id": "a3a795b9",
   "metadata": {},
   "outputs": [
    {
     "name": "stdout",
     "output_type": "stream",
     "text": [
      "27\n"
     ]
    }
   ],
   "source": [
    "a= \"Natural Language Processing\"\n",
    "count=0\n",
    "for i in a: count+=1\n",
    "print(count)    "
   ]
  },
  {
   "cell_type": "markdown",
   "id": "699523e2",
   "metadata": {},
   "source": [
    "### 2. Remove Duplicates in a String"
   ]
  },
  {
   "cell_type": "code",
   "execution_count": 20,
   "id": "cb270c57",
   "metadata": {},
   "outputs": [
    {
     "name": "stdout",
     "output_type": "stream",
     "text": [
      "Enter a Word Machine Learning\n",
      "String with duplicates removed: Machine Lrg\n"
     ]
    }
   ],
   "source": [
    "input_str = input(\"Enter a Word \")\n",
    "output_str = \"\"\n",
    "char_dict = {}\n",
    "for char in input_str:\n",
    "    if char not in char_dict:\n",
    "        output_str += char\n",
    "        char_dict[char] = True\n",
    "print(\"String with duplicates removed:\", output_str)\n"
   ]
  },
  {
   "cell_type": "markdown",
   "id": "93ce52ba",
   "metadata": {},
   "source": [
    "### 3. To count vowels and consonants in a string"
   ]
  },
  {
   "cell_type": "code",
   "execution_count": 17,
   "id": "ff01e79a",
   "metadata": {},
   "outputs": [
    {
     "name": "stdout",
     "output_type": "stream",
     "text": [
      "Enter a Word Machine Learning\n",
      "Total vowels: 6\n",
      "Total conconants: 10\n"
     ]
    }
   ],
   "source": [
    "n = input(\"Enter a Word \")\n",
    "vow, con = 0, 0\n",
    "for i in range(len(n)):\n",
    "    if n[i] in ['a','e','i','o','u']:vow +=1\n",
    "    else:con +=1\n",
    "print(\"Total vowels:\", vow)\n",
    "print(\"Total conconants:\", con)"
   ]
  },
  {
   "cell_type": "markdown",
   "id": "81c45f2b",
   "metadata": {},
   "source": [
    "### 4. To count occurrences of all characters within a string"
   ]
  },
  {
   "cell_type": "code",
   "execution_count": 21,
   "id": "86a353b9",
   "metadata": {},
   "outputs": [
    {
     "name": "stdout",
     "output_type": "stream",
     "text": [
      "Enter a Word Machine Learning\n",
      "Character count: {'g': 1, ' ': 1, 'M': 1, 'n': 3, 'a': 2, 'i': 2, 'e': 2, 'L': 1, 'r': 1, 'h': 1, 'c': 1}\n"
     ]
    }
   ],
   "source": [
    "input_str = input(\"Enter a Word \")\n",
    "char_dict = {char: input_str.count(char) for char in set(input_str)}\n",
    "print(\"Character count:\", char_dict)"
   ]
  },
  {
   "cell_type": "markdown",
   "id": "9f791751",
   "metadata": {},
   "source": [
    "### 5. To search a specific word in a string"
   ]
  },
  {
   "cell_type": "code",
   "execution_count": 23,
   "id": "5287d1cb",
   "metadata": {},
   "outputs": [
    {
     "name": "stdout",
     "output_type": "stream",
     "text": [
      "Enter a Word HopeAI is a Virtual Training Institute\n",
      "Enter a Word virtual\n",
      "'virtual' not found in the string.\n"
     ]
    }
   ],
   "source": [
    "input_str = input(\"Enter a Word \")\n",
    "search_word= input(\"Enter a Word \")\n",
    "if search_word in input_str:print(f\"'{search_word}' found in the string.\")\n",
    "else:print(f\"'{search_word}' not found in the string.\")"
   ]
  },
  {
   "cell_type": "markdown",
   "id": "e2e94e37",
   "metadata": {},
   "source": [
    "### 6. Find the last position of a given substring"
   ]
  },
  {
   "cell_type": "code",
   "execution_count": 24,
   "id": "16f93497",
   "metadata": {},
   "outputs": [
    {
     "name": "stdout",
     "output_type": "stream",
     "text": [
      "43\n"
     ]
    }
   ],
   "source": [
    "str1 = \"John is a data scientist who knows Python. John works at google.\"\n",
    "index = str1.rfind(\"John\")\n",
    "print(index)"
   ]
  },
  {
   "cell_type": "markdown",
   "id": "07c7ca7b",
   "metadata": {},
   "source": [
    "### 7. Remove special symbols / punctuation from a string"
   ]
  },
  {
   "cell_type": "code",
   "execution_count": 25,
   "id": "43ac36f4",
   "metadata": {},
   "outputs": [
    {
     "name": "stdout",
     "output_type": "stream",
     "text": [
      "Original string is  /*John is @developer & musician\n",
      "New string is  John is developer  musician\n"
     ]
    }
   ],
   "source": [
    "# Method 1: Using translate() and maketrans()\n",
    "\n",
    "import string\n",
    "str1 = \"/*John is @developer & musician\"\n",
    "print(\"Original string is \", str1)\n",
    "new_str = str1.translate(str.maketrans('', '', string.punctuation))\n",
    "print(\"New string is \", new_str)"
   ]
  },
  {
   "cell_type": "code",
   "execution_count": 26,
   "id": "a570edb0",
   "metadata": {},
   "outputs": [
    {
     "name": "stdout",
     "output_type": "stream",
     "text": [
      "Original string is  /*John is @developer & musician\n",
      "New string is  John is developer  musician\n"
     ]
    }
   ],
   "source": [
    "# Method 2: Using regex\n",
    "\n",
    "import re\n",
    "str1 = \"/*John is @developer & musician\"\n",
    "print(\"Original string is \", str1)\n",
    "# replace special symbols with ''\n",
    "res = re.sub(r'[^\\w\\s]', '', str1)\n",
    "print(\"New string is \", res)"
   ]
  },
  {
   "cell_type": "markdown",
   "id": "07a6c50d",
   "metadata": {},
   "source": [
    "### 8. Removal all characters from a string except integers"
   ]
  },
  {
   "cell_type": "code",
   "execution_count": 27,
   "id": "2943c6ca",
   "metadata": {},
   "outputs": [
    {
     "name": "stdout",
     "output_type": "stream",
     "text": [
      "Original string is I am 25 years and 10 months old\n",
      "2510\n"
     ]
    }
   ],
   "source": [
    "str1 = 'I am 25 years and 10 months old'\n",
    "print(\"Original string: \", str1)\n",
    "# Retain Numbers in String\n",
    "# Using list comprehension + join() + isdigit()\n",
    "res = \"\".join([item for item in str1 if item.isdigit()])\n",
    "print(res)"
   ]
  },
  {
   "cell_type": "code",
   "execution_count": null,
   "id": "da81a0a0",
   "metadata": {},
   "outputs": [],
   "source": []
  },
  {
   "cell_type": "code",
   "execution_count": null,
   "id": "bfc7d7dd",
   "metadata": {},
   "outputs": [],
   "source": []
  }
 ],
 "metadata": {
  "kernelspec": {
   "display_name": "Python 3 (ipykernel)",
   "language": "python",
   "name": "python3"
  },
  "language_info": {
   "codemirror_mode": {
    "name": "ipython",
    "version": 3
   },
   "file_extension": ".py",
   "mimetype": "text/x-python",
   "name": "python",
   "nbconvert_exporter": "python",
   "pygments_lexer": "ipython3",
   "version": "3.10.4"
  }
 },
 "nbformat": 4,
 "nbformat_minor": 5
}
