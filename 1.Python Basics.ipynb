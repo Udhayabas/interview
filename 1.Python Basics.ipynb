{
 "cells": [
  {
   "cell_type": "markdown",
   "id": "a60794a2",
   "metadata": {},
   "source": [
    "# One Form to another Form"
   ]
  },
  {
   "cell_type": "markdown",
   "id": "2fd4aee4",
   "metadata": {},
   "source": [
    "## Array to Dataframe"
   ]
  },
  {
   "cell_type": "markdown",
   "id": "87e3d981",
   "metadata": {},
   "source": [
    "### Example1:"
   ]
  },
  {
   "cell_type": "code",
   "execution_count": 6,
   "id": "87b2aa1b",
   "metadata": {},
   "outputs": [
    {
     "name": "stdout",
     "output_type": "stream",
     "text": [
      "   Subject1  Subject2  Subject3\n",
      "0        11        22        33\n",
      "1        44        55        66\n"
     ]
    }
   ],
   "source": [
    "import numpy as np\n",
    "import pandas as pd\n",
    "marks= np.array([[11,22,33],[44,55,66]])\n",
    "df = pd.DataFrame(marks, columns = ['Subject1','Subject2','Subject3'])\n",
    "print(df)\n"
   ]
  },
  {
   "cell_type": "code",
   "execution_count": 7,
   "id": "c80d7430",
   "metadata": {},
   "outputs": [
    {
     "name": "stdout",
     "output_type": "stream",
     "text": [
      "      Subject1  Subject2  Subject3\n",
      "Anu         11        22        33\n",
      "John        44        55        66\n"
     ]
    }
   ],
   "source": [
    "import numpy as np\n",
    "import pandas as pd\n",
    "marks = np.array([[11,22,33],[44,55,66]])\n",
    "df = pd.DataFrame(marks, columns = ['Subject1','Subject2','Subject3'], index=['Anu','John'])\n",
    "print(df)\n"
   ]
  },
  {
   "cell_type": "markdown",
   "id": "c35fc96d",
   "metadata": {},
   "source": [
    "### Example2:"
   ]
  },
  {
   "cell_type": "code",
   "execution_count": 5,
   "id": "2184b77d",
   "metadata": {},
   "outputs": [
    {
     "name": "stdout",
     "output_type": "stream",
     "text": [
      "    Name Age Birth Year Graduation Year\n",
      "0    Jon  25       1995            2016\n",
      "1  Maria  47       1973            2000\n",
      "2   Bill  38       1982            2005\n",
      "<class 'pandas.core.frame.DataFrame'>\n"
     ]
    }
   ],
   "source": [
    "import numpy as np\n",
    "import pandas as pd\n",
    "student_details = np.array([['Jon',25,1995,2016],['Maria',47,1973,2000],['Bill',38,1982,2005]], dtype=object)\n",
    "df = pd.DataFrame(student_details, columns = ['Name','Age','Birth Year','Graduation Year'])\n",
    "print(df)"
   ]
  },
  {
   "cell_type": "code",
   "execution_count": 8,
   "id": "d0aa3f89",
   "metadata": {},
   "outputs": [
    {
     "name": "stdout",
     "output_type": "stream",
     "text": [
      "    Name Age Birth Year Graduation Year\n",
      "0    Jon  25       1995            2016\n",
      "1  Maria  47       1973            2000\n",
      "2   Bill  38       1982            2005\n",
      "<class 'pandas.core.frame.DataFrame'>\n",
      "Name               object\n",
      "Age                object\n",
      "Birth Year         object\n",
      "Graduation Year    object\n",
      "dtype: object\n"
     ]
    }
   ],
   "source": [
    "import numpy as np\n",
    "import pandas as pd\n",
    "student_details = np.array([['Jon',25,1995,2016],['Maria',47,1973,2000],['Bill',38,1982,2005]], dtype=object)\n",
    "df = pd.DataFrame(student_details, columns = ['Name','Age','Birth Year','Graduation Year'])\n",
    "print(df)\n",
    "print(type(df))\n",
    "print(df.dtypes)"
   ]
  },
  {
   "cell_type": "code",
   "execution_count": 10,
   "id": "62081261",
   "metadata": {},
   "outputs": [
    {
     "name": "stdout",
     "output_type": "stream",
     "text": [
      "    Name  Age  Birth Year  Graduation Year\n",
      "0    Jon   25        1995             2016\n",
      "1  Maria   47        1973             2000\n",
      "2   Bill   38        1982             2005\n",
      "<class 'pandas.core.frame.DataFrame'>\n",
      "Name               object\n",
      "Age                 int32\n",
      "Birth Year          int32\n",
      "Graduation Year     int32\n",
      "dtype: object\n"
     ]
    }
   ],
   "source": [
    "import numpy as np\n",
    "import pandas as pd\n",
    "student_details= np.array([['Jon',25,1995,2016],['Maria',47,1973,2000],['Bill',38,1982,2005]])\n",
    "df = pd.DataFrame(student_details, columns = ['Name','Age','Birth Year','Graduation Year'])\n",
    "df['Age'] = df['Age'].astype(int)\n",
    "df['Birth Year'] = df['Birth Year'].astype(int)\n",
    "df['Graduation Year'] = df['Graduation Year'].astype(int)\n",
    "\n",
    "print(df)\n",
    "print(type(df))\n",
    "print(df.dtypes)"
   ]
  },
  {
   "cell_type": "markdown",
   "id": "94b1f5d9",
   "metadata": {},
   "source": [
    "### Example3:"
   ]
  },
  {
   "cell_type": "markdown",
   "id": "af812c76",
   "metadata": {},
   "source": [
    "#### Add array as new column in dataframe"
   ]
  },
  {
   "cell_type": "code",
   "execution_count": 11,
   "id": "7b55191f",
   "metadata": {},
   "outputs": [
    {
     "name": "stdout",
     "output_type": "stream",
     "text": [
      "   Game1  Game2  Game3  Game4\n",
      "0     25      5     11      2\n",
      "1     12      7      8      3\n",
      "2     15      7     10      1\n",
      "3     14      9      6      0\n",
      "4     19     12      6      2\n",
      "5     23      9      5      7\n",
      "6     25      9      9      8\n",
      "7     29      4     12      2\n"
     ]
    }
   ],
   "source": [
    "import numpy as np\n",
    "import pandas as pd\n",
    "\n",
    "#create pandas DataFrame\n",
    "df = pd.DataFrame({'Game1': [25, 12, 15, 14, 19, 23, 25, 29],\n",
    "                   'Game2': [5, 7, 7, 9, 12, 9, 9, 4],\n",
    "                   'Game3': [11, 8, 10, 6, 6, 5, 9, 12]})\n",
    "\n",
    "#create NumPy array for 'Game4'\n",
    "Game4 = np.array([2, 3, 1, 0, 2, 7, 8, 2])\n",
    "\n",
    "#add 'Game4' array as new column in DataFrame\n",
    "df['Game4'] = Game4.tolist()\n",
    "\n",
    "#display the DataFrame\n",
    "print(df)\n"
   ]
  },
  {
   "cell_type": "markdown",
   "id": "8904b2c3",
   "metadata": {},
   "source": [
    "## List to Dictionary"
   ]
  },
  {
   "cell_type": "markdown",
   "id": "ab162bfa",
   "metadata": {},
   "source": [
    "### Example1:"
   ]
  },
  {
   "cell_type": "markdown",
   "id": "0f8d12a0",
   "metadata": {},
   "source": [
    "#### Converting list of tuples to dictionary"
   ]
  },
  {
   "cell_type": "code",
   "execution_count": 18,
   "id": "94bdbad7",
   "metadata": {},
   "outputs": [
    {
     "name": "stdout",
     "output_type": "stream",
     "text": [
      "{'Abi': 67, 'John': 54}\n"
     ]
    }
   ],
   "source": [
    "Marks=[('Abi',67),('John',54)]\n",
    "Marks_Dict=dict(Marks)\n",
    "print(Marks_Dict)"
   ]
  },
  {
   "cell_type": "markdown",
   "id": "7b0c10db",
   "metadata": {},
   "source": [
    "### Example2:"
   ]
  },
  {
   "cell_type": "markdown",
   "id": "f17d3857",
   "metadata": {},
   "source": [
    "#### Converting two lists of same length to a dictionary using dict & zip method"
   ]
  },
  {
   "cell_type": "code",
   "execution_count": 15,
   "id": "9a8b8a61",
   "metadata": {},
   "outputs": [
    {
     "name": "stdout",
     "output_type": "stream",
     "text": [
      "{1: 'python', 2: 'machine learning', 3: 'data science'}\n"
     ]
    }
   ],
   "source": [
    "index = [1, 2, 3]\n",
    "courses = ['python', 'machine learning', 'data science']\n",
    "\n",
    "dictionary = dict(zip(index, courses))\n",
    "print(dictionary)"
   ]
  },
  {
   "cell_type": "markdown",
   "id": "c1e11351",
   "metadata": {},
   "source": [
    "#### Converting two lists of same length to a dictionary using zip method"
   ]
  },
  {
   "cell_type": "code",
   "execution_count": 21,
   "id": "d79a83b7",
   "metadata": {},
   "outputs": [
    {
     "name": "stdout",
     "output_type": "stream",
     "text": [
      "{1: 'python', 2: 'machine learning', 3: 'data science'}\n"
     ]
    }
   ],
   "source": [
    "index = [1, 2, 3]\n",
    "courses = ['python', 'machine learning', 'data science']\n",
    "\n",
    "dictionary = {k: v for k, v in zip(index, courses)}\n",
    "print(dictionary)"
   ]
  },
  {
   "cell_type": "markdown",
   "id": "b814ff10",
   "metadata": {},
   "source": [
    "### Example3:"
   ]
  },
  {
   "cell_type": "code",
   "execution_count": 19,
   "id": "62937bac",
   "metadata": {},
   "outputs": [
    {
     "name": "stdout",
     "output_type": "stream",
     "text": [
      "{1: 1, 2: 4, 3: 9, 4: 16, 5: 25, 6: 36, 7: 49, 8: 64, 9: 81, 10: 100}\n"
     ]
    }
   ],
   "source": [
    "list1 = [1, 2, 3, 4, 5, 6, 7, 8, 9, 10]  \n",
    "square_dict = {n: n*n for n in list1}  \n",
    "print(square_dict)  "
   ]
  },
  {
   "cell_type": "markdown",
   "id": "9fa4ad2e",
   "metadata": {},
   "source": [
    "## List to Set"
   ]
  },
  {
   "cell_type": "markdown",
   "id": "05c8549a",
   "metadata": {},
   "source": [
    "#### Using Set() function"
   ]
  },
  {
   "cell_type": "code",
   "execution_count": 39,
   "id": "4f57b591",
   "metadata": {},
   "outputs": [
    {
     "name": "stdout",
     "output_type": "stream",
     "text": [
      "{98, 38, 76, 45, 23, 62}\n"
     ]
    }
   ],
   "source": [
    "Marks = [45,98,23,76,38,62]\n",
    "Marks_Set= set(Marks)\n",
    "print(Marks_Set)"
   ]
  },
  {
   "cell_type": "markdown",
   "id": "ac29ae6e",
   "metadata": {},
   "source": [
    "#### Using for loop()"
   ]
  },
  {
   "cell_type": "code",
   "execution_count": 40,
   "id": "0830e780",
   "metadata": {},
   "outputs": [
    {
     "name": "stdout",
     "output_type": "stream",
     "text": [
      "{98, 38, 76, 45, 23, 62}\n"
     ]
    }
   ],
   "source": [
    "Marks = [45,98,23,76,38,62]\n",
    "my_set = set() \n",
    "# Using for loop\n",
    "for num in Marks:\n",
    "    # Adding num to my_set\n",
    "    my_set.add(num)\n",
    "print(my_set)"
   ]
  },
  {
   "cell_type": "markdown",
   "id": "f06b79cf",
   "metadata": {},
   "source": [
    "#### Using set comprehension"
   ]
  },
  {
   "cell_type": "code",
   "execution_count": 37,
   "id": "985b2f62",
   "metadata": {},
   "outputs": [
    {
     "name": "stdout",
     "output_type": "stream",
     "text": [
      "{98, 38, 76, 45, 23, 62}\n"
     ]
    }
   ],
   "source": [
    "Marks = {s for s in [45,98,23,76,38,62]}\n",
    "print(Marks)"
   ]
  },
  {
   "cell_type": "markdown",
   "id": "c854e302",
   "metadata": {},
   "source": [
    "## List to Tuple"
   ]
  },
  {
   "cell_type": "markdown",
   "id": "ec13f718",
   "metadata": {},
   "source": [
    "#### Using tuple() function"
   ]
  },
  {
   "cell_type": "code",
   "execution_count": 41,
   "id": "c716c7bc",
   "metadata": {},
   "outputs": [
    {
     "name": "stdout",
     "output_type": "stream",
     "text": [
      "(45, 98, 23, 76, 38, 62)\n"
     ]
    }
   ],
   "source": [
    "Marks = [45,98,23,76,38,62]\n",
    "Marks_tuple= tuple(Marks)\n",
    "print(Marks_tuple)"
   ]
  },
  {
   "cell_type": "markdown",
   "id": "658862e1",
   "metadata": {},
   "source": [
    "#### Using loop"
   ]
  },
  {
   "cell_type": "code",
   "execution_count": 42,
   "id": "d6326bee",
   "metadata": {},
   "outputs": [
    {
     "name": "stdout",
     "output_type": "stream",
     "text": [
      "(45, 98, 23, 76, 38, 62)\n"
     ]
    }
   ],
   "source": [
    "Marks = [45,98,23,76,38,62]\n",
    "Marks_tuple= tuple(i for i in Marks)\n",
    "print(Marks_tuple)"
   ]
  },
  {
   "cell_type": "markdown",
   "id": "76529e29",
   "metadata": {},
   "source": [
    "## Extract Dictionary values as a List"
   ]
  },
  {
   "cell_type": "markdown",
   "id": "77aca5ea",
   "metadata": {},
   "source": [
    "### Example1:"
   ]
  },
  {
   "cell_type": "code",
   "execution_count": 22,
   "id": "9b2116b6",
   "metadata": {},
   "outputs": [
    {
     "name": "stdout",
     "output_type": "stream",
     "text": [
      "[300, 150, 500, 850, 400]\n"
     ]
    }
   ],
   "source": [
    "my_dict = {'A': 300, 'B': 150, 'C': 500, 'D': 850, 'E': 400}\n",
    "my_list = list(my_dict.values())\n",
    "print(my_list)"
   ]
  },
  {
   "cell_type": "markdown",
   "id": "12b35e59",
   "metadata": {},
   "source": [
    "#### Using List comprehension"
   ]
  },
  {
   "cell_type": "code",
   "execution_count": 23,
   "id": "14bfc310",
   "metadata": {},
   "outputs": [
    {
     "name": "stdout",
     "output_type": "stream",
     "text": [
      "[300, 150, 500, 850, 400]\n"
     ]
    }
   ],
   "source": [
    "my_dict = {'A': 300, 'B': 150, 'C': 500, 'D': 850, 'E': 400}\n",
    "my_list = [i for i in my_dict.values()]\n",
    "print(my_list)"
   ]
  },
  {
   "cell_type": "markdown",
   "id": "1999bc65",
   "metadata": {},
   "source": [
    "### Example2:"
   ]
  },
  {
   "cell_type": "code",
   "execution_count": 25,
   "id": "53dd7c3b",
   "metadata": {},
   "outputs": [
    {
     "name": "stdout",
     "output_type": "stream",
     "text": [
      "[[300, 305, 310], [150, 155, 160], [500, 505, 510]]\n"
     ]
    }
   ],
   "source": [
    "my_dict = {'A': [300, 305, 310], 'B': [150, 155, 160], 'C': [500, 505, 510]}\n",
    "my_list = list(my_dict.values())\n",
    "print(my_list)"
   ]
  },
  {
   "cell_type": "markdown",
   "id": "fd0b7dc7",
   "metadata": {},
   "source": [
    "## Dictionary to List"
   ]
  },
  {
   "cell_type": "markdown",
   "id": "07598ac7",
   "metadata": {},
   "source": [
    "### Example1:"
   ]
  },
  {
   "cell_type": "markdown",
   "id": "753f3b28",
   "metadata": {},
   "source": [
    "#### Using list and items() method"
   ]
  },
  {
   "cell_type": "code",
   "execution_count": 26,
   "id": "b57d3898",
   "metadata": {},
   "outputs": [
    {
     "name": "stdout",
     "output_type": "stream",
     "text": [
      "[('Hello', 10), ('HopeAI', 20), ('python', 30)]\n"
     ]
    }
   ],
   "source": [
    "inputDictionary = {'Hello': 10, 'HopeAI': 20, 'python': 30}\n",
    "resultList = list(inputDictionary.items())\n",
    "print(resultList)"
   ]
  },
  {
   "cell_type": "markdown",
   "id": "8af6a74c",
   "metadata": {},
   "source": [
    "#### Using keys() method"
   ]
  },
  {
   "cell_type": "code",
   "execution_count": 27,
   "id": "54920b96",
   "metadata": {},
   "outputs": [
    {
     "name": "stdout",
     "output_type": "stream",
     "text": [
      "['Hello', 'HopeAI', 'python']\n"
     ]
    }
   ],
   "source": [
    "inputDictionary = {'Hello': 10, 'HopeAI': 20, 'python': 30}\n",
    "resultList = list(inputDictionary.keys())\n",
    "print(resultList)"
   ]
  },
  {
   "cell_type": "markdown",
   "id": "24c121ba",
   "metadata": {},
   "source": [
    "#### Using values() method"
   ]
  },
  {
   "cell_type": "code",
   "execution_count": 28,
   "id": "b2e62a74",
   "metadata": {},
   "outputs": [
    {
     "name": "stdout",
     "output_type": "stream",
     "text": [
      "[10, 20, 30]\n"
     ]
    }
   ],
   "source": [
    "inputDictionary = {'Hello': 10, 'HopeAI': 20, 'python': 30}\n",
    "resultList = list(inputDictionary.values())\n",
    "print(resultList)"
   ]
  },
  {
   "cell_type": "markdown",
   "id": "4b27abe4",
   "metadata": {},
   "source": [
    "#### Using list comprehension"
   ]
  },
  {
   "cell_type": "code",
   "execution_count": 29,
   "id": "939778ff",
   "metadata": {},
   "outputs": [
    {
     "name": "stdout",
     "output_type": "stream",
     "text": [
      "[('Hello', 10), ('HopeAI', 20), ('python', 30)]\n"
     ]
    }
   ],
   "source": [
    "inputDictionary = {'Hello': 10, 'HopeAI': 20, 'python': 30}\n",
    "resultList = [(key, value) for key, value in inputDictionary.items()]\n",
    "print(resultList)"
   ]
  },
  {
   "cell_type": "markdown",
   "id": "609d8977",
   "metadata": {},
   "source": [
    "#### Using zip() method"
   ]
  },
  {
   "cell_type": "code",
   "execution_count": 30,
   "id": "9e1cf6a8",
   "metadata": {},
   "outputs": [
    {
     "name": "stdout",
     "output_type": "stream",
     "text": [
      "[('Hello', 10), ('HopeAI', 20), ('python', 30)]\n"
     ]
    }
   ],
   "source": [
    "inputDictionary = {'Hello': 10, 'HopeAI': 20, 'python': 30}\n",
    "resultList = zip(inputDictionary.keys(), inputDictionary.values())\n",
    "resultList = list(resultList)\n",
    "print(resultList)"
   ]
  },
  {
   "cell_type": "markdown",
   "id": "5c69d0da",
   "metadata": {},
   "source": [
    "#### Using map() function"
   ]
  },
  {
   "cell_type": "code",
   "execution_count": 31,
   "id": "0c29fd15",
   "metadata": {},
   "outputs": [
    {
     "name": "stdout",
     "output_type": "stream",
     "text": [
      "[['Hello', 10], ['HopeAI', 20], ['python', 30]]\n"
     ]
    }
   ],
   "source": [
    "inputDictionary = {'Hello': 10, 'HopeAI': 20, 'python': 30}\n",
    "resultList = new_list = list(map(list, inputDictionary.items()))\n",
    "print(resultList)"
   ]
  },
  {
   "cell_type": "markdown",
   "id": "a844abcc",
   "metadata": {},
   "source": [
    "## Set to Tuple"
   ]
  },
  {
   "cell_type": "code",
   "execution_count": 34,
   "id": "9a38cfc8",
   "metadata": {},
   "outputs": [
    {
     "name": "stdout",
     "output_type": "stream",
     "text": [
      "('Data Science', 'Machine Learning', 'Python', 'Deep Learning')\n"
     ]
    }
   ],
   "source": [
    "Course={'Machine Learning','Python','Data Science','Deep Learning'}\n",
    "Course_Names=tuple(Course)\n",
    "print(Course_Names)"
   ]
  },
  {
   "cell_type": "markdown",
   "id": "0a6d6184",
   "metadata": {},
   "source": [
    "#### Using List comprehension"
   ]
  },
  {
   "cell_type": "code",
   "execution_count": 33,
   "id": "3beb2b9f",
   "metadata": {},
   "outputs": [
    {
     "name": "stdout",
     "output_type": "stream",
     "text": [
      "('Data Science', 'Machine Learning', 'Python', 'Deep Learning')\n"
     ]
    }
   ],
   "source": [
    "Course={'Machine Learning','Python','Data Science','Deep Learning'}\n",
    "Course_Names=[i for i in Course]\n",
    "print(tuple(Course_Names))"
   ]
  },
  {
   "cell_type": "markdown",
   "id": "576306d2",
   "metadata": {},
   "source": [
    "## Set to List"
   ]
  },
  {
   "cell_type": "code",
   "execution_count": 36,
   "id": "f83b98f1",
   "metadata": {},
   "outputs": [
    {
     "name": "stdout",
     "output_type": "stream",
     "text": [
      "['Data Science', 'Machine Learning', 'Python', 'Deep Learning']\n"
     ]
    }
   ],
   "source": [
    "Course={'Machine Learning','Python','Data Science','Deep Learning'}\n",
    "Course_Names=list(Course)\n",
    "print(Course_Names)"
   ]
  },
  {
   "cell_type": "markdown",
   "id": "205e5b08",
   "metadata": {},
   "source": [
    "## Set to Dictionary"
   ]
  },
  {
   "cell_type": "code",
   "execution_count": 43,
   "id": "9c6195d1",
   "metadata": {},
   "outputs": [
    {
     "name": "stdout",
     "output_type": "stream",
     "text": [
      "{1: 'Wed', 2: 'Tue', 3: 'Thu', 4: 'Mon'}\n"
     ]
    }
   ],
   "source": [
    "list_keys = {1,2,3,4}\n",
    "list_values = {'Mon','Tue','Wed','Thu'}\n",
    "new_dict = dict(zip(list_keys, list_values))\n",
    "print(new_dict)"
   ]
  },
  {
   "cell_type": "markdown",
   "id": "5bbb8b85",
   "metadata": {},
   "source": [
    "#### Using dict.fromkeys()"
   ]
  },
  {
   "cell_type": "code",
   "execution_count": 48,
   "id": "f7c64c71",
   "metadata": {},
   "outputs": [
    {
     "name": "stdout",
     "output_type": "stream",
     "text": [
      "{1: 'Mon', 2: 'Mon', 3: 'Mon', 4: 'Mon'}\n"
     ]
    }
   ],
   "source": [
    "list_keys = {1,2,3,4}\n",
    "new_dict = dict.fromkeys(list_keys,'Mon')\n",
    "print(new_dict)"
   ]
  },
  {
   "cell_type": "markdown",
   "id": "cb6d9f5e",
   "metadata": {},
   "source": [
    "## Tuple to Set"
   ]
  },
  {
   "cell_type": "code",
   "execution_count": 35,
   "id": "5a5282be",
   "metadata": {},
   "outputs": [
    {
     "name": "stdout",
     "output_type": "stream",
     "text": [
      "{'Data Science', 'Machine Learning', 'Python', 'Deep Learning'}\n"
     ]
    }
   ],
   "source": [
    "Course=('Machine Learning','Python','Data Science','Deep Learning')\n",
    "Course_Names=set(Course)\n",
    "print(Course_Names)"
   ]
  },
  {
   "cell_type": "markdown",
   "id": "3b3d63ed",
   "metadata": {},
   "source": [
    "## Tuple to List"
   ]
  },
  {
   "cell_type": "code",
   "execution_count": 46,
   "id": "91d7687b",
   "metadata": {},
   "outputs": [
    {
     "name": "stdout",
     "output_type": "stream",
     "text": [
      "['Machine Learning', 'Python', 'Data Science', 'Deep Learning']\n"
     ]
    }
   ],
   "source": [
    "Course=('Machine Learning','Python','Data Science','Deep Learning')\n",
    "Course_Names=list(Course)\n",
    "print(Course_Names)"
   ]
  },
  {
   "cell_type": "markdown",
   "id": "bb4ad905",
   "metadata": {},
   "source": [
    "## Tuple to Dictionary"
   ]
  },
  {
   "cell_type": "markdown",
   "id": "fb047c16",
   "metadata": {},
   "source": [
    "#### Using dict()"
   ]
  },
  {
   "cell_type": "code",
   "execution_count": 17,
   "id": "b6f315cf",
   "metadata": {},
   "outputs": [
    {
     "name": "stdout",
     "output_type": "stream",
     "text": [
      "{'Tiger': 4, 'Cat': 6, 'Dog': 8, 'Elephant': 10}\n"
     ]
    }
   ],
   "source": [
    "my_tuples = (('Tiger', 4), ('Cat', 6), ('Dog', 8), ('Elephant', 10))\n",
    "my_dict = dict(my_tuples)\n",
    "print(my_dict)"
   ]
  },
  {
   "cell_type": "markdown",
   "id": "e8b8f61b",
   "metadata": {},
   "source": [
    "#### Using zip() method"
   ]
  },
  {
   "cell_type": "code",
   "execution_count": 47,
   "id": "41c1c244",
   "metadata": {},
   "outputs": [
    {
     "name": "stdout",
     "output_type": "stream",
     "text": [
      "{1: 'Machine Learning', 2: 'Python', 3: 'Data Science', 4: 'Deep Learning'}\n"
     ]
    }
   ],
   "source": [
    "list_keys = (1,2,3,4)\n",
    "list_values = ('Machine Learning','Python','Data Science','Deep Learning')\n",
    "Course = dict(zip(list_keys, list_values))\n",
    "print(Course)"
   ]
  },
  {
   "cell_type": "markdown",
   "id": "cac7067b",
   "metadata": {},
   "source": [
    "## DataType Conversion"
   ]
  },
  {
   "cell_type": "markdown",
   "id": "e91a7c62",
   "metadata": {},
   "source": [
    "#### Convert ASCII value to characters"
   ]
  },
  {
   "cell_type": "code",
   "execution_count": 3,
   "id": "a6f4f8a6",
   "metadata": {},
   "outputs": [
    {
     "name": "stdout",
     "output_type": "stream",
     "text": [
      "A\n",
      "M\n"
     ]
    }
   ],
   "source": [
    "a = chr(65)\n",
    "b = chr(77)\n",
    "  \n",
    "print(a)\n",
    "print(b)"
   ]
  },
  {
   "cell_type": "markdown",
   "id": "ca5392ec",
   "metadata": {},
   "source": [
    "#### Converting integer to float using Implicit function"
   ]
  },
  {
   "cell_type": "code",
   "execution_count": 7,
   "id": "d066309f",
   "metadata": {},
   "outputs": [
    {
     "name": "stdout",
     "output_type": "stream",
     "text": [
      "Value: 13.23\n",
      "DataType: <class 'float'>\n"
     ]
    }
   ],
   "source": [
    "num1 = 12\n",
    "num2 = 1.23\n",
    "\n",
    "new_num = num1 + num2\n",
    "\n",
    "# display new value and resulting data type\n",
    "print(\"Value:\",new_num)\n",
    "print(\"DataType:\",type(new_num))"
   ]
  },
  {
   "cell_type": "markdown",
   "id": "b7600355",
   "metadata": {},
   "source": [
    "#### Addition of string and integer Using Explicit Conversion"
   ]
  },
  {
   "cell_type": "code",
   "execution_count": 8,
   "id": "6c35dc3b",
   "metadata": {},
   "outputs": [
    {
     "name": "stdout",
     "output_type": "stream",
     "text": [
      "Sum: 35\n",
      "DataType: <class 'int'>\n"
     ]
    }
   ],
   "source": [
    "num_str = '12'\n",
    "num_int = 23\n",
    "# explicit type conversion\n",
    "num_str = int(num_str)\n",
    "num_sum = num_int + num_str\n",
    "\n",
    "print(\"Sum:\",num_sum)\n",
    "print(\"DataType:\",type(num_sum))"
   ]
  },
  {
   "cell_type": "markdown",
   "id": "bcbe444d",
   "metadata": {},
   "source": [
    "#### Converting String to Numeric Types"
   ]
  },
  {
   "cell_type": "code",
   "execution_count": 9,
   "id": "50a195bb",
   "metadata": {},
   "outputs": [
    {
     "name": "stdout",
     "output_type": "stream",
     "text": [
      "56\n",
      "86\n",
      "66\n",
      "25.897\n"
     ]
    }
   ],
   "source": [
    "str_num = '56'\n",
    "print(int(str_num))    #default base is 10\n",
    "print(int(str_num, 16))    #From Hexadecimal\n",
    "print(int(str_num, 12))    #From a number where base is 12\n",
    "str_num = '25.897'\n",
    "print(float(str_num))    #convert string to floating point value"
   ]
  },
  {
   "cell_type": "markdown",
   "id": "23f9466d",
   "metadata": {},
   "source": [
    "#### String to character converting and Base converting"
   ]
  },
  {
   "cell_type": "code",
   "execution_count": 10,
   "id": "d7828c27",
   "metadata": {},
   "outputs": [
    {
     "name": "stdout",
     "output_type": "stream",
     "text": [
      "ASCII value of \"M\" is: 77\n",
      "Hexadecimal value of 254 is: 0xfe\n",
      "Octal value of 62 is: 0o76\n",
      "Binary value of 56 is: 0b111000\n"
     ]
    }
   ],
   "source": [
    "print('ASCII value of \"M\" is: ' + str(ord('M')))\n",
    "print('Hexadecimal value of 254 is: ' + str(hex(254)))\n",
    "print('Octal value of 62 is: ' + str(oct(62)))\n",
    "print('Binary value of 56 is: ' + str(bin(56)))"
   ]
  },
  {
   "cell_type": "markdown",
   "id": "53db0079",
   "metadata": {},
   "source": [
    "#### Converting Containers"
   ]
  },
  {
   "cell_type": "code",
   "execution_count": 15,
   "id": "5c9c4a02",
   "metadata": {},
   "outputs": [
    {
     "name": "stdout",
     "output_type": "stream",
     "text": [
      "list to tuple: (10, 20, 30, 40, 50)\n",
      "list to set: {40, 10, 50, 20, 30}\n",
      "set to list: [10, 20, 50, 30]\n",
      "set to tuple: (10, 20, 50, 30)\n",
      "tuple to list: [10, 25, 50, 75, 100]\n",
      "tuple to set: {100, 10, 75, 50, 25}\n"
     ]
    }
   ],
   "source": [
    "my_list = [10, 20, 30, 40, 50]\n",
    "my_set = {10, 10, 20, 30, 20, 50, 20}\n",
    "my_tuple = (10, 25, 50, 75, 100)\n",
    "print('list to tuple: ' + str(tuple(my_list)))\n",
    "print('list to set: ' + str(set(my_list)))\n",
    "print('set to list: ' + str(list(my_set)))\n",
    "print('set to tuple: ' + str(tuple(my_set)))\n",
    "print('tuple to list: ' + str(list(my_tuple)))\n",
    "print('tuple to set: ' + str(set(my_tuple)))"
   ]
  },
  {
   "cell_type": "markdown",
   "id": "3b87c1e5",
   "metadata": {},
   "source": [
    "#### convert to complex number"
   ]
  },
  {
   "cell_type": "code",
   "execution_count": 16,
   "id": "54e2e69f",
   "metadata": {},
   "outputs": [
    {
     "name": "stdout",
     "output_type": "stream",
     "text": [
      "(10+5j)\n"
     ]
    }
   ],
   "source": [
    "my_complex = complex(10, 5) \n",
    "print(my_complex)"
   ]
  },
  {
   "cell_type": "markdown",
   "id": "2a94c9c6",
   "metadata": {},
   "source": [
    "#### Using ord() function"
   ]
  },
  {
   "cell_type": "code",
   "execution_count": 18,
   "id": "cded0bc0",
   "metadata": {},
   "outputs": [
    {
     "name": "stdout",
     "output_type": "stream",
     "text": [
      "43\n",
      "65\n"
     ]
    }
   ],
   "source": [
    "a = '+'\n",
    "b = 'A'\n",
    "\n",
    "print(ord(a))\n",
    "print(ord(b))"
   ]
  },
  {
   "cell_type": "markdown",
   "id": "2318c3da",
   "metadata": {},
   "source": [
    "### Primitive datatype Conversions"
   ]
  },
  {
   "cell_type": "code",
   "execution_count": 23,
   "id": "32306916",
   "metadata": {},
   "outputs": [
    {
     "data": {
      "text/plain": [
       "array([1, 2, 2])"
      ]
     },
     "execution_count": 23,
     "metadata": {},
     "output_type": "execute_result"
    }
   ],
   "source": [
    "import numpy as np\n",
    "x = np.array([1, 2, 2.5])\n",
    "x.astype(int)"
   ]
  },
  {
   "cell_type": "code",
   "execution_count": 21,
   "id": "da2b3c17",
   "metadata": {},
   "outputs": [
    {
     "name": "stdout",
     "output_type": "stream",
     "text": [
      "7.0\n"
     ]
    }
   ],
   "source": [
    "# int to float\n",
    "x,y=3,4\n",
    "z= float(x+y)\n",
    "print(z)"
   ]
  },
  {
   "cell_type": "code",
   "execution_count": 22,
   "id": "3023dce8",
   "metadata": {},
   "outputs": [
    {
     "name": "stdout",
     "output_type": "stream",
     "text": [
      "8\n"
     ]
    }
   ],
   "source": [
    "#float to int\n",
    "x,y=3.5, 4.8\n",
    "z= int(x+y)\n",
    "print(z)"
   ]
  },
  {
   "cell_type": "code",
   "execution_count": 24,
   "id": "cb8c0b53",
   "metadata": {},
   "outputs": [
    {
     "name": "stdout",
     "output_type": "stream",
     "text": [
      "The total is: 65$\n"
     ]
    }
   ],
   "source": [
    "# int to str\n",
    "chocolate = 25\n",
    "icecream = 40\n",
    "total = chocolate + icecream\n",
    "print(\"The total is: \" + str(total)  + \"$\")"
   ]
  },
  {
   "cell_type": "code",
   "execution_count": null,
   "id": "800ffdfb",
   "metadata": {},
   "outputs": [],
   "source": []
  },
  {
   "cell_type": "code",
   "execution_count": null,
   "id": "c94e4cec",
   "metadata": {},
   "outputs": [],
   "source": []
  }
 ],
 "metadata": {
  "kernelspec": {
   "display_name": "Python 3 (ipykernel)",
   "language": "python",
   "name": "python3"
  },
  "language_info": {
   "codemirror_mode": {
    "name": "ipython",
    "version": 3
   },
   "file_extension": ".py",
   "mimetype": "text/x-python",
   "name": "python",
   "nbconvert_exporter": "python",
   "pygments_lexer": "ipython3",
   "version": "3.10.4"
  }
 },
 "nbformat": 4,
 "nbformat_minor": 5
}
